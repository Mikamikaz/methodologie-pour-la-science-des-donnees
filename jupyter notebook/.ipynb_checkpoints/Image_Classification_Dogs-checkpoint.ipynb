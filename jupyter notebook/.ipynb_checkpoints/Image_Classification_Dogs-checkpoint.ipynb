{
 "cells": [
  {
   "cell_type": "markdown",
   "id": "88ea0a3f-d9cd-4bd3-8042-a4083fd45439",
   "metadata": {},
   "source": [
    "# Classifying Dog Images with Tensorflow and Keras"
   ]
  },
  {
   "cell_type": "code",
   "execution_count": 1,
   "id": "9ed8cf8d-b192-488c-a8b2-b035f89192d7",
   "metadata": {},
   "outputs": [],
   "source": [
    "# Load libraries and packages needed for image classification project\n",
    "import pandas as pd\n",
    "import matplotlib.pyplot as plt\n",
    "import tensorflow as tf\n",
    "from tensorflow.keras import models, layers\n",
    "from IPython.display import HTML\n"
   ]
  },
  {
   "cell_type": "code",
   "execution_count": 2,
   "id": "d7a3a5b1",
   "metadata": {},
   "outputs": [
    {
     "name": "stdout",
     "output_type": "stream",
     "text": [
      "Found 952 files belonging to 5 classes.\n"
     ]
    }
   ],
   "source": [
    "dataset = tf.keras.preprocessing.image_dataset_from_directory(\n",
    "    \"./Images\")"
   ]
  },
  {
   "cell_type": "code",
   "execution_count": 3,
   "id": "5cea75ad-4208-4aa1-87e2-c128d45145ea",
   "metadata": {},
   "outputs": [
    {
     "data": {
      "text/plain": [
       "['n02085620-Chihuahua',\n",
       " 'n02085782-Japanese_spaniel',\n",
       " 'n02085936-Maltese_dog',\n",
       " 'n02086079-Pekinese',\n",
       " 'n02086240-Shih-Tzu']"
      ]
     },
     "execution_count": 3,
     "metadata": {},
     "output_type": "execute_result"
    }
   ],
   "source": [
    "# set the breed of dogs that the program will be classifying \n",
    "breeds = dataset.class_names\n",
    "breeds"
   ]
  },
  {
   "cell_type": "code",
   "execution_count": 4,
   "id": "899aa2de-70cb-4374-a51a-fee00021e4d0",
   "metadata": {},
   "outputs": [],
   "source": [
    "# Set the arguments for the tensorflow instance\n",
    "args = {\n",
    "    'labels':'inferred',          # Infers the name of the dog by the name of the directory the picture is in\n",
    "    'label_mode':'categorical',   # Each breed is one category\n",
    "    'batch_size': 5,             # how many images are loaded and processed at once by neural network\n",
    "    'image_size': (256,256),      # resize all images to the same size \n",
    "    'seed': 1,                    # set seed for reproducability\n",
    "    'validation_split': .2,       # split training and testing : 80% train and 20% test\n",
    "    'class_names': breeds         # name of the categories\n",
    "}"
   ]
  },
  {
   "cell_type": "code",
   "execution_count": 5,
   "id": "6cabd7e9-5467-474b-98cc-f97d21686dc2",
   "metadata": {},
   "outputs": [
    {
     "name": "stdout",
     "output_type": "stream",
     "text": [
      "Found 952 files belonging to 5 classes.\n",
      "Using 762 files for training.\n"
     ]
    }
   ],
   "source": [
    "# Training data \n",
    "\n",
    "train = tf.keras.utils.image_dataset_from_directory(           # Loads images from directory into tensorflow training dataset\n",
    "    \"./Images\",\n",
    "    subset='training',\n",
    "    **args\n",
    ")"
   ]
  },
  {
   "cell_type": "code",
   "execution_count": 6,
   "id": "4fd0755e",
   "metadata": {},
   "outputs": [
    {
     "data": {
      "text/plain": [
       "['n02085782-Japanese_spaniel', 'n02085936-Maltese_dog']"
      ]
     },
     "execution_count": 6,
     "metadata": {},
     "output_type": "execute_result"
    }
   ],
   "source": [
    "breeds[1:3]"
   ]
  },
  {
   "cell_type": "code",
   "execution_count": 7,
   "id": "9eb28527-fc14-44c9-9786-f06e0f3c826b",
   "metadata": {},
   "outputs": [
    {
     "name": "stdout",
     "output_type": "stream",
     "text": [
      "Found 952 files belonging to 5 classes.\n",
      "Using 190 files for validation.\n"
     ]
    }
   ],
   "source": [
    "# Test Data\n",
    "\n",
    "test = tf.keras.utils.image_dataset_from_directory(           # Loads images from directory into tensorflow  testing dataset\n",
    "    \"./Images\",\n",
    "    subset='validation',\n",
    "    **args\n",
    ")"
   ]
  },
  {
   "cell_type": "code",
   "execution_count": 8,
   "id": "2ba81d58-9bd5-4c98-81b5-12b6fd445c69",
   "metadata": {},
   "outputs": [
    {
     "data": {
      "text/plain": [
       "<BatchDataset element_spec=(TensorSpec(shape=(None, 256, 256, 3), dtype=tf.float32, name=None), TensorSpec(shape=(None, 5), dtype=tf.float32, name=None))>"
      ]
     },
     "execution_count": 8,
     "metadata": {},
     "output_type": "execute_result"
    }
   ],
   "source": [
    "train  "
   ]
  },
  {
   "cell_type": "code",
   "execution_count": 9,
   "id": "a009505a-31e5-4678-8164-7d76803b69ce",
   "metadata": {},
   "outputs": [],
   "source": [
    "first = train.take(1)   # Saves the first batch of images to a variable 'first'... from above: 1 batch = 32 images\n"
   ]
  },
  {
   "cell_type": "code",
   "execution_count": 10,
   "id": "a33075be-2767-4e1d-bf69-257efc74dc07",
   "metadata": {},
   "outputs": [],
   "source": [
    "# create two new variables images, which will hold the first 32 images and labels, which will hold the labels of the first 32 images\n",
    "\n",
    "images, labels = list(first)[0]  \n"
   ]
  },
  {
   "cell_type": "code",
   "execution_count": 11,
   "id": "0679e052-e672-42f7-a07d-9b738d405ab4",
   "metadata": {},
   "outputs": [],
   "source": [
    "# take a look at the first image in the batch \n",
    "\n",
    "first_image = images[0]\n",
    "#first_image                # saved as a numpy array that holds matrices of numbers coresponding to pixels and RGB content in the image\n"
   ]
  },
  {
   "cell_type": "code",
   "execution_count": 12,
   "id": "b0b94f83-06de-4422-9442-b88f0bb397bd",
   "metadata": {},
   "outputs": [
    {
     "data": {
      "text/plain": [
       "<tf.Tensor: shape=(5,), dtype=float32, numpy=array([0., 1., 0., 0., 0.], dtype=float32)>"
      ]
     },
     "execution_count": 12,
     "metadata": {},
     "output_type": "execute_result"
    }
   ],
   "source": [
    "labels[0]   # numpy array shows binary inputs that tell us which kind of dog it is"
   ]
  },
  {
   "cell_type": "code",
   "execution_count": 13,
   "id": "483e4799-dd17-4a40-bc7e-ace4f0de125c",
   "metadata": {},
   "outputs": [],
   "source": [
    "train = train.cache().prefetch(buffer_size=tf.data.AUTOTUNE)   # Caches pictures in memory rather than hard disk to make algorithm more efficient\n",
    "test = test.cache().prefetch(buffer_size=tf.data.AUTOTUNE)   # Caches pictures in memory rather than hard disk to make algorithm more efficient\n"
   ]
  },
  {
   "cell_type": "code",
   "execution_count": 14,
   "id": "feb9fe96-9320-4fd3-93af-efc6a87c4fd8",
   "metadata": {},
   "outputs": [],
   "source": [
    "# import keras packages for modeling and build sequential model\n",
    "\n",
    "from tensorflow.keras import layers\n",
    "from tensorflow.keras.models import Sequential\n",
    "'''\n",
    "model = Sequential ([\n",
    "    layers.Rescaling(1./255),    # Pixels in numpy array are from 0 - 255, so we rescale the pixels into numbers between 0-1 in order to help neural network be more efficient\n",
    "    layers.Conv2D(16,3,padding='same',activation='relu',input_shape=(255,255,3)),             # Create a convulutional layer that scans images and generates new matrices with features from the images, will do this 16 times, looking at 3x3 pixels nat a time(window)\n",
    "    layers.Flatten(),\n",
    "    layers.Dense(128,activation='relu', kernel_regularizer='l2'),  # dense network will take flattened layer and help facilitate predictions\n",
    "    #layers.Dropout(0.2),\n",
    "    layers.Dense(len(breeds))             # this line will make the prediction\n",
    "])'''\n",
    "\n",
    "model = Sequential(layers.Rescaling(1./255))\n",
    "model.add(tf.keras.layers.Conv2D(32, (3, 3), padding='same', input_shape=(255,255,3)))\n",
    "model.add(tf.keras.layers.Activation('relu'))\n",
    "model.add(tf.keras.layers.Conv2D(32, (3, 3)))\n",
    "model.add(tf.keras.layers.Activation('relu'))\n",
    "model.add(tf.keras.layers.MaxPooling2D(pool_size=(2, 2)))\n",
    "model.add(tf.keras.layers.Dropout(0.25))\n",
    "\n",
    "model.add(tf.keras.layers.Conv2D(64, (3, 3), padding='same'))\n",
    "model.add(tf.keras.layers.Activation('relu'))\n",
    "model.add(tf.keras.layers.Conv2D(64, (3, 3)))\n",
    "model.add(tf.keras.layers.Activation('relu'))\n",
    "model.add(tf.keras.layers.MaxPooling2D(pool_size=(2, 2)))\n",
    "model.add(tf.keras.layers.Dropout(0.25))\n",
    "\n",
    "model.add(tf.keras.layers.Flatten())\n",
    "model.add(tf.keras.layers.Dense(512))\n",
    "model.add(tf.keras.layers.Activation('relu'))\n",
    "model.add(tf.keras.layers.Dropout(0.5))\n",
    "model.add(tf.keras.layers.Dense(5))\n",
    "model.add(tf.keras.layers.Activation('softmax'))"
   ]
  },
  {
   "cell_type": "code",
   "execution_count": 15,
   "id": "0bd872d2-5c66-4484-baa9-df977cfa4858",
   "metadata": {},
   "outputs": [],
   "source": [
    "# Compile the model\n",
    "\n",
    "model.compile(optimizer='RMSprop',loss=tf.keras.losses.CategoricalCrossentropy(from_logits=True),metrics =['accuracy'])     # optimizer tells model how to predict error and how to iterate, and loss function calculates error"
   ]
  },
  {
   "cell_type": "code",
   "execution_count": 16,
   "id": "274a32de-d824-4296-b8b2-e54380ece3d2",
   "metadata": {
    "scrolled": true
   },
   "outputs": [
    {
     "name": "stdout",
     "output_type": "stream",
     "text": [
      "Epoch 1/7\n"
     ]
    },
    {
     "name": "stderr",
     "output_type": "stream",
     "text": [
      "C:\\Users\\akims\\PycharmProjects\\methodo\\venv\\lib\\site-packages\\keras\\backend.py:5534: UserWarning: \"`categorical_crossentropy` received `from_logits=True`, but the `output` argument was produced by a Softmax activation and thus does not represent logits. Was this intended?\n",
      "  output, from_logits = _get_logits(\n"
     ]
    },
    {
     "name": "stdout",
     "output_type": "stream",
     "text": [
      "153/153 [==============================] - 290s 2s/step - loss: 3.4246 - accuracy: 0.2388 - val_loss: 1.5881 - val_accuracy: 0.2158\n",
      "Epoch 2/7\n",
      "153/153 [==============================] - 260s 2s/step - loss: 1.6183 - accuracy: 0.2703 - val_loss: 1.5638 - val_accuracy: 0.2789\n",
      "Epoch 3/7\n",
      "153/153 [==============================] - 264s 2s/step - loss: 1.5549 - accuracy: 0.3228 - val_loss: 1.5733 - val_accuracy: 0.3158\n",
      "Epoch 4/7\n",
      "153/153 [==============================] - 277s 2s/step - loss: 1.2498 - accuracy: 0.5341 - val_loss: 1.9780 - val_accuracy: 0.2474\n",
      "Epoch 5/7\n",
      "153/153 [==============================] - 279s 2s/step - loss: 0.8460 - accuracy: 0.6837 - val_loss: 4.0826 - val_accuracy: 0.3053\n",
      "Epoch 6/7\n",
      "153/153 [==============================] - 268s 2s/step - loss: 0.4659 - accuracy: 0.8556 - val_loss: 4.2677 - val_accuracy: 0.2947\n",
      "Epoch 7/7\n",
      "153/153 [==============================] - 260s 2s/step - loss: 0.3684 - accuracy: 0.9055 - val_loss: 4.2816 - val_accuracy: 0.3053\n"
     ]
    }
   ],
   "source": [
    "# fit the model\n",
    "\n",
    "history = model.fit(\n",
    "    train,\n",
    "    validation_data=test,\n",
    "    epochs=7,\n",
    "    verbose=1\n",
    ")"
   ]
  },
  {
   "cell_type": "code",
   "execution_count": 16,
   "id": "108bd81e",
   "metadata": {},
   "outputs": [],
   "source": []
  },
  {
   "cell_type": "markdown",
   "id": "bb5d14d9",
   "metadata": {},
   "source": [
    "En général, à chaque fois que le nombre d'époques augmente, la perte diminue et la précision augmente. Mais avec val_loss et val_acc, plusieurs cas sont possibles :\n",
    "\n",
    "    val_loss commence à augmenter, val_acc commence à diminuer (ce qui signifie que le modèle bourre les valeurs et n'apprend pas).\n",
    "\n",
    "    val_loss commence à augmenter, val_acc augmente également (cela peut être un cas d'overfitting ou de valeurs de probabilité diverses dans le cas où softmax est utilisé dans la couche de sortie).\n",
    "\n",
    "    val_loss commence à diminuer, val_acc commence à augmenter (correct, signifie que le modèle construit apprend et fonctionne bien).\n",
    "    Accuracy -pour évaluer la précision de la prédiction du modèle par rapport aux données réelles.\n",
    "    \n",
    "    L'ensemble de validation est utilisé après la formation du réseau neuronal. Il sert à régler les hyperparamètres du réseau et à comparer l'effet de leurs modifications sur la précision prédictive du modèle. Alors que l'ensemble de formation peut être considéré comme utilisé pour construire les poids de porte du réseau neuronal, l'ensemble de validation permet un réglage fin des paramètres ou de l'architecture du modèle de réseau neuronal.\n"
   ]
  },
  {
   "cell_type": "code",
   "execution_count": 17,
   "id": "e25e404c-7284-4fe6-8daf-348e7ae40ece",
   "metadata": {},
   "outputs": [
    {
     "name": "stdout",
     "output_type": "stream",
     "text": [
      "Model: \"sequential\"\n",
      "_________________________________________________________________\n",
      " Layer (type)                Output Shape              Param #   \n",
      "=================================================================\n",
      " rescaling (Rescaling)       (None, 256, 256, 3)       0         \n",
      "                                                                 \n",
      " conv2d (Conv2D)             (None, 256, 256, 32)      896       \n",
      "                                                                 \n",
      " activation (Activation)     (None, 256, 256, 32)      0         \n",
      "                                                                 \n",
      " conv2d_1 (Conv2D)           (None, 254, 254, 32)      9248      \n",
      "                                                                 \n",
      " activation_1 (Activation)   (None, 254, 254, 32)      0         \n",
      "                                                                 \n",
      " max_pooling2d (MaxPooling2D  (None, 127, 127, 32)     0         \n",
      " )                                                               \n",
      "                                                                 \n",
      " dropout (Dropout)           (None, 127, 127, 32)      0         \n",
      "                                                                 \n",
      " conv2d_2 (Conv2D)           (None, 127, 127, 64)      18496     \n",
      "                                                                 \n",
      " activation_2 (Activation)   (None, 127, 127, 64)      0         \n",
      "                                                                 \n",
      " conv2d_3 (Conv2D)           (None, 125, 125, 64)      36928     \n",
      "                                                                 \n",
      " activation_3 (Activation)   (None, 125, 125, 64)      0         \n",
      "                                                                 \n",
      " max_pooling2d_1 (MaxPooling  (None, 62, 62, 64)       0         \n",
      " 2D)                                                             \n",
      "                                                                 \n",
      " dropout_1 (Dropout)         (None, 62, 62, 64)        0         \n",
      "                                                                 \n",
      " flatten (Flatten)           (None, 246016)            0         \n",
      "                                                                 \n",
      " dense (Dense)               (None, 512)               125960704 \n",
      "                                                                 \n",
      " activation_4 (Activation)   (None, 512)               0         \n",
      "                                                                 \n",
      " dropout_2 (Dropout)         (None, 512)               0         \n",
      "                                                                 \n",
      " dense_1 (Dense)             (None, 5)                 2565      \n",
      "                                                                 \n",
      " activation_5 (Activation)   (None, 5)                 0         \n",
      "                                                                 \n",
      "=================================================================\n",
      "Total params: 126,028,837\n",
      "Trainable params: 126,028,837\n",
      "Non-trainable params: 0\n",
      "_________________________________________________________________\n"
     ]
    }
   ],
   "source": [
    "# Summary of the model and its layers / how they are working\n",
    "\n",
    "model.summary()\n",
    "\n",
    "# Rescaling layer output the images and rescaled them\n",
    "# Convulutional layer created 16 matrices of image features\n",
    "# flattening layer flatened matrices into one lon vector\n",
    "# Dense layer took that vector and use dit to make prediction\n",
    "# Dense_3 seperated a single vector for each image indicating which class it belongs to"
   ]
  },
  {
   "cell_type": "code",
   "execution_count": 18,
   "id": "420f380f-250e-44c2-92ef-3df23e29fab0",
   "metadata": {},
   "outputs": [
    {
     "data": {
      "image/png": "[encoded data removed]",
      "text/plain": [
       "<Figure size 640x480 with 1 Axes>"
      ]
     },
     "metadata": {},
     "output_type": "display_data"
    }
   ],
   "source": [
    "# Graph model accuracy with pandas\n",
    "import pandas as pd\n",
    "\n",
    "history_df = pd.DataFrame.from_dict(history.history)\n",
    "history_df[['accuracy','val_accuracy']].plot();\n",
    "\n",
    "# Training accuracy went up but validation accuracy did not\n",
    "# model may be overfit - random features are being implemented by model"
   ]
  },
  {
   "cell_type": "code",
   "execution_count": 19,
   "id": "bf112ace-a643-4abf-b4ea-c242fc8c4658",
   "metadata": {},
   "outputs": [],
   "source": [
    "# Account for overfitting and increas emodel accuracy\n",
    "# paste model from before into function so as to not have to change the code every time\n",
    "\n",
    "def train_model(network,epochs=5):\n",
    "    model = Sequential(network)\n",
    "    model.compile(optimizer='RMSprop',\n",
    "                  loss=tf.keras.losses.CategoricalCrossentropy(from_logits=True),\n",
    "                  metrics =['accuracy'])\n",
    "    history = model.fit(\n",
    "    train,\n",
    "    validation_data=test,\n",
    "    epochs=7,\n",
    "    verbose=1\n",
    ")\n",
    "    history_df = pd.DataFrame.from_dict(history.history)\n",
    "    return history_df,model"
   ]
  },
  {
   "cell_type": "code",
   "execution_count": 20,
   "id": "84399c71-2e87-419f-b000-4de2179a40cc",
   "metadata": {},
   "outputs": [
    {
     "name": "stdout",
     "output_type": "stream",
     "text": [
      "Epoch 1/7\n",
      "153/153 [==============================] - 42s 263ms/step - loss: 1.7206 - accuracy: 0.2428 - val_loss: 1.5918 - val_accuracy: 0.2789\n",
      "Epoch 2/7\n",
      "153/153 [==============================] - 41s 265ms/step - loss: 1.5938 - accuracy: 0.2677 - val_loss: 1.5120 - val_accuracy: 0.3316\n",
      "Epoch 3/7\n",
      "153/153 [==============================] - 40s 263ms/step - loss: 1.4193 - accuracy: 0.4029 - val_loss: 1.4702 - val_accuracy: 0.3474\n",
      "Epoch 4/7\n",
      "153/153 [==============================] - 40s 261ms/step - loss: 1.0499 - accuracy: 0.6010 - val_loss: 1.6388 - val_accuracy: 0.4158\n",
      "Epoch 5/7\n",
      "153/153 [==============================] - 40s 265ms/step - loss: 0.5403 - accuracy: 0.8176 - val_loss: 2.9261 - val_accuracy: 0.3579\n",
      "Epoch 6/7\n",
      "153/153 [==============================] - 41s 267ms/step - loss: 0.2614 - accuracy: 0.9160 - val_loss: 3.8684 - val_accuracy: 0.3316\n",
      "Epoch 7/7\n",
      "153/153 [==============================] - 40s 264ms/step - loss: 0.1848 - accuracy: 0.9541 - val_loss: 3.9041 - val_accuracy: 0.3316\n"
     ]
    }
   ],
   "source": [
    "# same netwrok as before, modified with new layers\n",
    "\n",
    "network = [\n",
    "    layers.Rescaling(1./255),    \n",
    "    layers.Conv2D(16,4,padding='same',activation='relu',input_shape=(256,256,3)),     # increase window size to 4 from 3\n",
    "    layers.MaxPooling2D(),                                                            # add max pooling 2d layer to reduce overfit and reduce number of parameters\n",
    "    layers.Conv2D(32,4,padding='same',activation='relu',input_shape=(256,256,3)),     # add second convolutional layer with increased filters to 32, to let network pick up higher level features\n",
    "    layers.MaxPooling2D(),                                                           # add another max pooling layer\n",
    "    layers.Conv2D(64,4,padding='same',activation='relu',input_shape=(256,256,3)),    # add another convolutional layer with 64 filters for even higher level features\n",
    "    layers.MaxPooling2D(),                                                           # another max pooling layer\n",
    "    layers.Dropout(.2),                                                              # Dropout layer helps with overfitting by setting some outputs to 0 randomly, so network doesnt become too linked to trainjing data\n",
    "    layers.Flatten(),\n",
    "    layers.Dense(128,activation='relu'),  \n",
    "    layers.Dense(len(breeds))             \n",
    "]\n",
    "\n",
    "# run model again\n",
    "\n",
    "history_df,model = train_model(network)"
   ]
  },
  {
   "cell_type": "code",
   "execution_count": 21,
   "id": "5133e25c-6058-4a44-9f21-51d52c89db97",
   "metadata": {},
   "outputs": [
    {
     "data": {
      "image/png": "[encoded data removed]",
      "text/plain": [
       "<Figure size 640x480 with 1 Axes>"
      ]
     },
     "metadata": {},
     "output_type": "display_data"
    }
   ],
   "source": [
    "history_df[['accuracy','val_accuracy']].plot();  # not much of an accuracy increase: increase epochs and see changes\n",
    "\n",
    "# Still overfitting"
   ]
  },
  {
   "cell_type": "code",
   "execution_count": 22,
   "id": "b05a7d35-a3f4-4441-a2ab-4214634b9e91",
   "metadata": {},
   "outputs": [],
   "source": [
    "# Data augmentaion may help with overfitting with keras layers, set to a sequential layer\n",
    "# set seeds for reproducibility \n",
    "\n",
    "data_augmentaion = tf.keras.Sequential([\n",
    "    layers.RandomFlip('horizontal',seed=1),         # Randomly flips images from left to right which the model wuill see as a new image and increase accuracy\n",
    "    layers.RandomRotation(.2,seed=1),               # Randomly raotates images for more information\n",
    "    layers.RandomZoom(.2,seed=1)                   #randomly zooms images for more information for the model \n",
    "])"
   ]
  },
  {
   "cell_type": "code",
   "execution_count": 23,
   "id": "9cb202cf-8341-4912-8f0a-a9ff62c5d790",
   "metadata": {},
   "outputs": [],
   "source": [
    "# add netwroks together to create full network\n",
    "\n",
    "full_network = [data_augmentaion] + network\n"
   ]
  },
  {
   "cell_type": "code",
   "execution_count": 24,
   "id": "d507c225-8a39-4121-a359-b79539f76651",
   "metadata": {},
   "outputs": [
    {
     "name": "stdout",
     "output_type": "stream",
     "text": [
      "Epoch 1/7\n",
      "WARNING:tensorflow:Using a while_loop for converting RngReadAndSkip cause there is no registered converter for this op.\n",
      "WARNING:tensorflow:Using a while_loop for converting Bitcast cause there is no registered converter for this op.\n",
      "WARNING:tensorflow:Using a while_loop for converting Bitcast cause there is no registered converter for this op.\n",
      "WARNING:tensorflow:Using a while_loop for converting StatelessRandomUniformV2 cause there is no registered converter for this op.\n",
      "WARNING:tensorflow:Using a while_loop for converting ImageProjectiveTransformV3 cause there is no registered converter for this op.\n",
      "WARNING:tensorflow:Using a while_loop for converting RngReadAndSkip cause there is no registered converter for this op.\n",
      "WARNING:tensorflow:Using a while_loop for converting Bitcast cause there is no registered converter for this op.\n",
      "WARNING:tensorflow:Using a while_loop for converting Bitcast cause there is no registered converter for this op.\n",
      "WARNING:tensorflow:Using a while_loop for converting StatelessRandomUniformV2 cause there is no registered converter for this op.\n",
      "WARNING:tensorflow:Using a while_loop for converting ImageProjectiveTransformV3 cause there is no registered converter for this op.\n",
      "WARNING:tensorflow:Using a while_loop for converting RngReadAndSkip cause there is no registered converter for this op.\n",
      "WARNING:tensorflow:Using a while_loop for converting Bitcast cause there is no registered converter for this op.\n",
      "WARNING:tensorflow:Using a while_loop for converting Bitcast cause there is no registered converter for this op.\n",
      "WARNING:tensorflow:Using a while_loop for converting StatelessRandomUniformV2 cause there is no registered converter for this op.\n",
      "WARNING:tensorflow:Using a while_loop for converting ImageProjectiveTransformV3 cause there is no registered converter for this op.\n",
      "WARNING:tensorflow:Using a while_loop for converting RngReadAndSkip cause there is no registered converter for this op.\n",
      "WARNING:tensorflow:Using a while_loop for converting Bitcast cause there is no registered converter for this op.\n",
      "WARNING:tensorflow:Using a while_loop for converting Bitcast cause there is no registered converter for this op.\n",
      "WARNING:tensorflow:Using a while_loop for converting StatelessRandomUniformV2 cause there is no registered converter for this op.\n",
      "WARNING:tensorflow:Using a while_loop for converting ImageProjectiveTransformV3 cause there is no registered converter for this op.\n",
      "WARNING:tensorflow:Using a while_loop for converting RngReadAndSkip cause there is no registered converter for this op.\n",
      "WARNING:tensorflow:Using a while_loop for converting Bitcast cause there is no registered converter for this op.\n",
      "WARNING:tensorflow:Using a while_loop for converting Bitcast cause there is no registered converter for this op.\n",
      "WARNING:tensorflow:Using a while_loop for converting StatelessRandomUniformV2 cause there is no registered converter for this op.\n",
      "WARNING:tensorflow:Using a while_loop for converting ImageProjectiveTransformV3 cause there is no registered converter for this op.\n",
      "WARNING:tensorflow:Using a while_loop for converting RngReadAndSkip cause there is no registered converter for this op.\n",
      "WARNING:tensorflow:Using a while_loop for converting Bitcast cause there is no registered converter for this op.\n",
      "WARNING:tensorflow:Using a while_loop for converting Bitcast cause there is no registered converter for this op.\n",
      "WARNING:tensorflow:Using a while_loop for converting StatelessRandomUniformV2 cause there is no registered converter for this op.\n",
      "WARNING:tensorflow:Using a while_loop for converting ImageProjectiveTransformV3 cause there is no registered converter for this op.\n",
      "WARNING:tensorflow:Using a while_loop for converting RngReadAndSkip cause there is no registered converter for this op.\n",
      "WARNING:tensorflow:Using a while_loop for converting Bitcast cause there is no registered converter for this op.\n",
      "WARNING:tensorflow:Using a while_loop for converting Bitcast cause there is no registered converter for this op.\n",
      "WARNING:tensorflow:Using a while_loop for converting StatelessRandomUniformV2 cause there is no registered converter for this op.\n",
      "WARNING:tensorflow:Using a while_loop for converting ImageProjectiveTransformV3 cause there is no registered converter for this op.\n",
      "WARNING:tensorflow:Using a while_loop for converting RngReadAndSkip cause there is no registered converter for this op.\n",
      "WARNING:tensorflow:Using a while_loop for converting Bitcast cause there is no registered converter for this op.\n",
      "WARNING:tensorflow:Using a while_loop for converting Bitcast cause there is no registered converter for this op.\n",
      "WARNING:tensorflow:Using a while_loop for converting StatelessRandomUniformV2 cause there is no registered converter for this op.\n",
      "WARNING:tensorflow:Using a while_loop for converting ImageProjectiveTransformV3 cause there is no registered converter for this op.\n",
      "153/153 [==============================] - 52s 282ms/step - loss: 1.7185 - accuracy: 0.3373 - val_loss: 1.4238 - val_accuracy: 0.3842\n",
      "Epoch 2/7\n",
      "153/153 [==============================] - 44s 288ms/step - loss: 1.5122 - accuracy: 0.3675 - val_loss: 1.4066 - val_accuracy: 0.3632\n",
      "Epoch 3/7\n",
      "153/153 [==============================] - 43s 282ms/step - loss: 1.4626 - accuracy: 0.4213 - val_loss: 1.3538 - val_accuracy: 0.4211\n",
      "Epoch 4/7\n",
      "153/153 [==============================] - 44s 285ms/step - loss: 1.3963 - accuracy: 0.4475 - val_loss: 1.3600 - val_accuracy: 0.4053\n",
      "Epoch 5/7\n",
      "153/153 [==============================] - 43s 282ms/step - loss: 1.3503 - accuracy: 0.4619 - val_loss: 1.3196 - val_accuracy: 0.4579\n",
      "Epoch 6/7\n",
      "153/153 [==============================] - 43s 278ms/step - loss: 1.3435 - accuracy: 0.4751 - val_loss: 1.5748 - val_accuracy: 0.4632\n",
      "Epoch 7/7\n",
      "153/153 [==============================] - 42s 278ms/step - loss: 1.2974 - accuracy: 0.4816 - val_loss: 1.4594 - val_accuracy: 0.4000\n"
     ]
    }
   ],
   "source": [
    "# Train the full network\n",
    "\n",
    "history_df, model = train_model(full_network)"
   ]
  },
  {
   "cell_type": "code",
   "execution_count": 25,
   "id": "d65cf428-e4ba-4521-ac24-62718772c2f6",
   "metadata": {},
   "outputs": [
    {
     "data": {
      "image/png": "[encoded data removed]",
      "text/plain": [
       "<Figure size 640x480 with 1 Axes>"
      ]
     },
     "metadata": {},
     "output_type": "display_data"
    }
   ],
   "source": [
    "# Plot accuracy again\n",
    "\n",
    "history_df[['accuracy','val_accuracy']].plot();\n",
    "\n",
    "# Accuracy is much better now"
   ]
  },
  {
   "cell_type": "code",
   "execution_count": 26,
   "id": "93760343-2a67-4ede-81ee-c229aa4d44b2",
   "metadata": {},
   "outputs": [
    {
     "name": "stdout",
     "output_type": "stream",
     "text": [
      "38/38 [==============================] - 2s 60ms/step\n"
     ]
    }
   ],
   "source": [
    "# Pull predictions out and visulaize them \n",
    "\n",
    "preds = model.predict(test)    # large numpy array; convert to pandas dataframe to make it easier to work with\n"
   ]
  },
  {
   "cell_type": "code",
   "execution_count": 27,
   "id": "91755fad-2dd3-4c5c-accd-dbf9bbaeaede",
   "metadata": {},
   "outputs": [],
   "source": [
    "import numpy as np \n",
    "\n",
    "predicted_class = np.argmax(preds,axis=1)    # turns predictions into a single number\n"
   ]
  },
  {
   "cell_type": "code",
   "execution_count": 28,
   "id": "e843c118-24fb-4435-b6a6-03f895fca5a3",
   "metadata": {},
   "outputs": [
    {
     "data": {
      "text/plain": [
       "array([1, 4, 0, 2, 2, 2, 1, 2, 2, 1, 1, 1, 1, 3, 3, 1, 1, 2, 2, 2, 2, 1,\n",
       "       2, 4, 1, 3, 2, 2, 4, 3, 1, 1, 3, 1, 2, 4, 2, 1, 2, 2, 4, 2, 4, 4,\n",
       "       4, 4, 4, 1, 2, 4, 3, 4, 1, 2, 1, 0, 2, 2, 2, 1, 2, 4, 1, 2, 2, 0,\n",
       "       2, 2, 0, 1, 1, 1, 1, 2, 0, 3, 1, 2, 2, 1, 1, 4, 2, 1, 1, 2, 1, 2,\n",
       "       1, 1, 1, 4, 1, 2, 1, 2, 2, 4, 2, 2, 2, 3, 4, 4, 1, 2, 2, 1, 1, 1,\n",
       "       1, 1, 1, 0, 1, 0, 2, 4, 4, 2, 1, 1, 2, 1, 2, 2, 1, 1, 1, 2, 1, 2,\n",
       "       2, 2, 0, 2, 2, 1, 2, 0, 1, 3, 4, 1, 1, 2, 2, 2, 1, 1, 2, 2, 1, 4,\n",
       "       3, 1, 1, 2, 1, 1, 2, 2, 4, 3, 4, 4, 2, 1, 2, 1, 2, 0, 1, 2, 2, 2,\n",
       "       0, 4, 2, 1, 1, 1, 3, 1, 4, 1, 1, 1, 2, 2], dtype=int64)"
      ]
     },
     "execution_count": 28,
     "metadata": {},
     "output_type": "execute_result"
    }
   ],
   "source": [
    "#Array of index of original breeds \n",
    "\n",
    "predicted_class"
   ]
  },
  {
   "cell_type": "code",
   "execution_count": 29,
   "id": "f2ac021a-c4ff-415d-848b-3cabfee201d9",
   "metadata": {},
   "outputs": [],
   "source": [
    "actual_labels = np.concatenate([y for x,y in test],axis=0)   # flattens out batches and pulls out labels"
   ]
  },
  {
   "cell_type": "code",
   "execution_count": 30,
   "id": "f9ce7590-ffcb-4796-bdfe-11b6c01f7718",
   "metadata": {},
   "outputs": [],
   "source": [
    "actual_labels   # they are vectors so change them to single numbers\n",
    "actual_class = np.argmax(actual_labels,axis=1)"
   ]
  },
  {
   "cell_type": "code",
   "execution_count": 31,
   "id": "515b607a-f0ba-4fb8-ac1d-f16b3d08b54b",
   "metadata": {},
   "outputs": [
    {
     "ename": "NameError",
     "evalue": "name 'Image' is not defined",
     "output_type": "error",
     "traceback": [
      "\u001b[1;31m---------------------------------------------------------------------------\u001b[0m",
      "\u001b[1;31mNameError\u001b[0m                                 Traceback (most recent call last)",
      "Cell \u001b[1;32mIn[31], line 7\u001b[0m\n\u001b[0;32m      5\u001b[0m actual_image \u001b[38;5;241m=\u001b[39m [x\u001b[38;5;241m.\u001b[39mnumpy()\u001b[38;5;241m.\u001b[39mastype(\u001b[38;5;124m'\u001b[39m\u001b[38;5;124muint8\u001b[39m\u001b[38;5;124m'\u001b[39m) \u001b[38;5;28;01mfor\u001b[39;00m x,y \u001b[38;5;129;01min\u001b[39;00m test]\n\u001b[0;32m      6\u001b[0m actual_image \u001b[38;5;241m=\u001b[39m \u001b[38;5;28mlist\u001b[39m(itertools\u001b[38;5;241m.\u001b[39mchain\u001b[38;5;241m.\u001b[39mfrom_iterable(actual_image))\n\u001b[1;32m----> 7\u001b[0m actual_image \u001b[38;5;241m=\u001b[39m [Image\u001b[38;5;241m.\u001b[39mfromarray(a) \u001b[38;5;28;01mfor\u001b[39;00m a \u001b[38;5;129;01min\u001b[39;00m actual_image]\n",
      "Cell \u001b[1;32mIn[31], line 7\u001b[0m, in \u001b[0;36m<listcomp>\u001b[1;34m(.0)\u001b[0m\n\u001b[0;32m      5\u001b[0m actual_image \u001b[38;5;241m=\u001b[39m [x\u001b[38;5;241m.\u001b[39mnumpy()\u001b[38;5;241m.\u001b[39mastype(\u001b[38;5;124m'\u001b[39m\u001b[38;5;124muint8\u001b[39m\u001b[38;5;124m'\u001b[39m) \u001b[38;5;28;01mfor\u001b[39;00m x,y \u001b[38;5;129;01min\u001b[39;00m test]\n\u001b[0;32m      6\u001b[0m actual_image \u001b[38;5;241m=\u001b[39m \u001b[38;5;28mlist\u001b[39m(itertools\u001b[38;5;241m.\u001b[39mchain\u001b[38;5;241m.\u001b[39mfrom_iterable(actual_image))\n\u001b[1;32m----> 7\u001b[0m actual_image \u001b[38;5;241m=\u001b[39m [\u001b[43mImage\u001b[49m\u001b[38;5;241m.\u001b[39mfromarray(a) \u001b[38;5;28;01mfor\u001b[39;00m a \u001b[38;5;129;01min\u001b[39;00m actual_image]\n",
      "\u001b[1;31mNameError\u001b[0m: name 'Image' is not defined"
     ]
    }
   ],
   "source": [
    "# Get actual images of the dogs\n",
    "from PIL import Image\n",
    "import itertools\n",
    "\n",
    "actual_image = [x.numpy().astype('uint8') for x,y in test]\n",
    "actual_image = list(itertools.chain.from_iterable(actual_image))\n",
    "actual_image = [Image.fromarray(a) for a in actual_image]"
   ]
  },
  {
   "cell_type": "code",
   "execution_count": null,
   "id": "2aa0a67d-c54c-42fd-ab2d-472a79c9404e",
   "metadata": {},
   "outputs": [],
   "source": [
    "# create datframe from predicted, actual, and the images of the dogs\n",
    "\n",
    "pred_df = pd.DataFrame(zip(predicted_class,actual_class,actual_image),columns=['prediction','actual','image'])\n"
   ]
  },
  {
   "cell_type": "code",
   "execution_count": null,
   "id": "657c0c48-ff28-46a9-980e-44a92ceceb51",
   "metadata": {},
   "outputs": [],
   "source": [
    "# change dog breeds from numbers to the actual names\n",
    "\n",
    "pred_df['prediction'] = pred_df['prediction'].apply(lambda x : breeds[x])\n",
    "pred_df['actual'] = pred_df['actual'].apply(lambda x : breeds[x])\n",
    "\n"
   ]
  },
  {
   "cell_type": "code",
   "execution_count": null,
   "id": "531fbc80-8ea5-428b-a234-56584c578495",
   "metadata": {},
   "outputs": [],
   "source": [
    "# Disply Head of dataframe\n",
    "\n",
    "pred_df.head(20)\n"
   ]
  },
  {
   "cell_type": "code",
   "execution_count": null,
   "id": "9791c1e5-da3f-47dd-b4e8-9a735dff7dcc",
   "metadata": {},
   "outputs": [],
   "source": [
    "# Render actal images instead of image data\n",
    "\n",
    "import base64\n",
    "import io\n",
    "def image(img):\n",
    "    with io.BytesIO() as buffer:\n",
    "        img.save(buffer,'png')\n",
    "        img_str = base64.b64encode(buffer.getvalue()).decode()\n",
    "        return f'<img src=\"data:image/jpeg;base64,{img_str}\">'\n",
    "  \n",
    "    \n",
    "# this is all a little convoluted and had to look up how to do all of this, working with images and HTML\n",
    "    "
   ]
  },
  {
   "cell_type": "code",
   "execution_count": null,
   "id": "dedfc7bb-7ff3-464d-a155-7cd459461315",
   "metadata": {},
   "outputs": [],
   "source": [
    "# Look at predictions and acrtual dogs\n",
    "\n",
    "  \n",
    "pred_df.head(200).style.format({'image':image})\n",
    "\n",
    "# Labs and dobermans seem hard for the model to predict"
   ]
  },
  {
   "cell_type": "code",
   "execution_count": null,
   "id": "99ef5ebd-0875-41ef-88df-afbf9babd73d",
   "metadata": {},
   "outputs": [],
   "source": []
  },
  {
   "cell_type": "code",
   "execution_count": null,
   "id": "d0823f6b",
   "metadata": {},
   "outputs": [],
   "source": []
  }
 ],
 "metadata": {
  "kernelspec": {
   "display_name": "Python 3 (ipykernel)",
   "language": "python",
   "name": "python3"
  },
  "language_info": {
   "codemirror_mode": {
    "name": "ipython",
    "version": 3
   },
   "file_extension": ".py",
   "mimetype": "text/x-python",
   "name": "python",
   "nbconvert_exporter": "python",
   "pygments_lexer": "ipython3",
   "version": "3.9.15"
  }
 },
 "nbformat": 4,
 "nbformat_minor": 5
}
