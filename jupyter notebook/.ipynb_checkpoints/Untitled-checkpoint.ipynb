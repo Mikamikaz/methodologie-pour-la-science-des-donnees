{
 "cells": [
  {
   "cell_type": "code",
   "execution_count": 35,
   "id": "b35ae8d8",
   "metadata": {},
   "outputs": [],
   "source": [
    "import os\n",
    "import numpy as np\n",
    "from PIL import Image\n",
    "from pathlib import Path\n",
    "from os import path, getcwd"
   ]
  },
  {
   "cell_type": "code",
   "execution_count": 36,
   "id": "65adddc2",
   "metadata": {},
   "outputs": [
    {
     "ename": "FileNotFoundError",
     "evalue": "[WinError 3] Le chemin d’accès spécifié est introuvable: 'C:\\\\Users\\\\akims\\\\PycharmProjects\\\\methodo\\\\Images traités\\\\n02085620-Chihuahua\\\\Images'",
     "output_type": "error",
     "traceback": [
      "\u001b[1;31m---------------------------------------------------------------------------\u001b[0m",
      "\u001b[1;31mFileNotFoundError\u001b[0m                         Traceback (most recent call last)",
      "\u001b[1;32m~\\AppData\\Local\\Temp\\ipykernel_3088\\2453061319.py\u001b[0m in \u001b[0;36m<module>\u001b[1;34m\u001b[0m\n\u001b[0;32m      4\u001b[0m \u001b[0mlongueur\u001b[0m\u001b[1;33m,\u001b[0m \u001b[0mlargeur\u001b[0m \u001b[1;33m=\u001b[0m \u001b[1;36m120\u001b[0m\u001b[1;33m,\u001b[0m \u001b[1;36m120\u001b[0m\u001b[1;33m\u001b[0m\u001b[1;33m\u001b[0m\u001b[0m\n\u001b[0;32m      5\u001b[0m \u001b[1;33m\u001b[0m\u001b[0m\n\u001b[1;32m----> 6\u001b[1;33m \u001b[0mclasse_path\u001b[0m \u001b[1;33m=\u001b[0m \u001b[0mos\u001b[0m\u001b[1;33m.\u001b[0m\u001b[0mlistdir\u001b[0m\u001b[1;33m(\u001b[0m\u001b[0miamge_path\u001b[0m\u001b[1;33m)\u001b[0m\u001b[1;33m\u001b[0m\u001b[1;33m\u001b[0m\u001b[0m\n\u001b[0m\u001b[0;32m      7\u001b[0m \u001b[0mimages_list\u001b[0m \u001b[1;33m=\u001b[0m \u001b[0mlist\u001b[0m\u001b[1;33m(\u001b[0m\u001b[1;33m)\u001b[0m\u001b[1;33m\u001b[0m\u001b[1;33m\u001b[0m\u001b[0m\n\u001b[0;32m      8\u001b[0m \u001b[1;33m\u001b[0m\u001b[0m\n",
      "\u001b[1;31mFileNotFoundError\u001b[0m: [WinError 3] Le chemin d’accès spécifié est introuvable: 'C:\\\\Users\\\\akims\\\\PycharmProjects\\\\methodo\\\\Images traités\\\\n02085620-Chihuahua\\\\Images'"
     ]
    }
   ],
   "source": [
    "iamge_path = path.join(getcwd(), Path('Images'))\n",
    "iamge_traites_path = path.join(getcwd(), Path('Images traités'))\n",
    "\n",
    "longueur, largeur = 120, 120\n",
    "\n",
    "classe_path = os.listdir(iamge_path)\n",
    "images_list = list()\n",
    "\n",
    "for classe in classe_path :\n",
    "    images_list.append(os.listdir(path.join(iamge_path, classe)))\n",
    "    \n",
    "def rotate_image (classe, name) :\n",
    "    img = Image.open(path.join(iamge_path,classe,name))\n",
    "    img_rotate_1 = img.rotate(90)\n",
    "    img_rotate_2 = img.rotate(180)\n",
    "    img_rotate_3 = img.rotate(270)\n",
    "    new_name = os.path.splitext(name)[0]\n",
    "    if not path.exists(iamge_traites_path):\n",
    "        os.mkdir(iamge_traites_path)\n",
    "    os.chdir(Path(iamge_traites_path))\n",
    "    if not path.exists(classe):\n",
    "        os.mkdir(classe)\n",
    "    os.chdir(Path(classe))\n",
    "    img_rotate_1.save(new_name+'_rotate_1.jpeg')\n",
    "    img_rotate_2.save(new_name+'_rotate_2.jpeg')\n",
    "    img_rotate_3.save(new_name+'_rotate_3.jpeg')\n",
    "    \n",
    "def resize_image (classe,name):\n",
    "    img = Image.open(path.join(iamge_path,classe, name))\n",
    "    img = img.resize((longueur, largeur), Image.ANTIALIAS)\n",
    "    img = img.convert('RGB')\n",
    "    img.save(path.join(iamge_traites_path,name))"
   ]
  },
  {
   "cell_type": "code",
   "execution_count": 32,
   "id": "81b2768b",
   "metadata": {},
   "outputs": [
    {
     "ename": "NameError",
     "evalue": "name 'name' is not defined",
     "output_type": "error",
     "traceback": [
      "\u001b[1;31m---------------------------------------------------------------------------\u001b[0m",
      "\u001b[1;31mNameError\u001b[0m                                 Traceback (most recent call last)",
      "\u001b[1;32m~\\AppData\\Local\\Temp\\ipykernel_3088\\613091043.py\u001b[0m in \u001b[0;36m<module>\u001b[1;34m\u001b[0m\n\u001b[0;32m      2\u001b[0m     \u001b[1;32mfor\u001b[0m \u001b[0mimage\u001b[0m \u001b[1;32min\u001b[0m \u001b[0mclasse\u001b[0m \u001b[1;33m:\u001b[0m\u001b[1;33m\u001b[0m\u001b[1;33m\u001b[0m\u001b[0m\n\u001b[0;32m      3\u001b[0m         \u001b[0mrotate_image\u001b[0m\u001b[1;33m(\u001b[0m\u001b[0mclasse_path\u001b[0m\u001b[1;33m[\u001b[0m\u001b[0mi\u001b[0m\u001b[1;33m]\u001b[0m\u001b[1;33m,\u001b[0m\u001b[0mimage\u001b[0m\u001b[1;33m)\u001b[0m\u001b[1;33m\u001b[0m\u001b[1;33m\u001b[0m\u001b[0m\n\u001b[1;32m----> 4\u001b[1;33m         \u001b[0mresize_image\u001b[0m\u001b[1;33m(\u001b[0m\u001b[0mclasse_path\u001b[0m\u001b[1;33m[\u001b[0m\u001b[0mi\u001b[0m\u001b[1;33m]\u001b[0m\u001b[1;33m,\u001b[0m\u001b[0mimage\u001b[0m\u001b[1;33m)\u001b[0m\u001b[1;33m\u001b[0m\u001b[1;33m\u001b[0m\u001b[0m\n\u001b[0m",
      "\u001b[1;32m~\\AppData\\Local\\Temp\\ipykernel_3088\\1485150306.py\u001b[0m in \u001b[0;36mresize_image\u001b[1;34m(classe, nom)\u001b[0m\n\u001b[0;32m     27\u001b[0m \u001b[1;33m\u001b[0m\u001b[0m\n\u001b[0;32m     28\u001b[0m \u001b[1;32mdef\u001b[0m \u001b[0mresize_image\u001b[0m \u001b[1;33m(\u001b[0m\u001b[0mclasse\u001b[0m\u001b[1;33m,\u001b[0m\u001b[0mnom\u001b[0m\u001b[1;33m)\u001b[0m\u001b[1;33m:\u001b[0m\u001b[1;33m\u001b[0m\u001b[1;33m\u001b[0m\u001b[0m\n\u001b[1;32m---> 29\u001b[1;33m     \u001b[0mimg\u001b[0m \u001b[1;33m=\u001b[0m \u001b[0mImage\u001b[0m\u001b[1;33m.\u001b[0m\u001b[0mopen\u001b[0m\u001b[1;33m(\u001b[0m\u001b[0mpath\u001b[0m\u001b[1;33m.\u001b[0m\u001b[0mjoin\u001b[0m\u001b[1;33m(\u001b[0m\u001b[0miamge_path\u001b[0m\u001b[1;33m,\u001b[0m\u001b[0mclasse\u001b[0m\u001b[1;33m,\u001b[0m \u001b[0mname\u001b[0m\u001b[1;33m)\u001b[0m\u001b[1;33m)\u001b[0m\u001b[1;33m\u001b[0m\u001b[1;33m\u001b[0m\u001b[0m\n\u001b[0m\u001b[0;32m     30\u001b[0m     \u001b[0mimg\u001b[0m \u001b[1;33m=\u001b[0m \u001b[0mimg\u001b[0m\u001b[1;33m.\u001b[0m\u001b[0mresize\u001b[0m\u001b[1;33m(\u001b[0m\u001b[1;33m(\u001b[0m\u001b[0mlongueur\u001b[0m\u001b[1;33m,\u001b[0m \u001b[0mlargeur\u001b[0m\u001b[1;33m)\u001b[0m\u001b[1;33m,\u001b[0m \u001b[0mImage\u001b[0m\u001b[1;33m.\u001b[0m\u001b[0mANTIALIAS\u001b[0m\u001b[1;33m)\u001b[0m\u001b[1;33m\u001b[0m\u001b[1;33m\u001b[0m\u001b[0m\n\u001b[0;32m     31\u001b[0m     \u001b[0mimg\u001b[0m \u001b[1;33m=\u001b[0m \u001b[0mimg\u001b[0m\u001b[1;33m.\u001b[0m\u001b[0mconvert\u001b[0m\u001b[1;33m(\u001b[0m\u001b[1;34m'RGB'\u001b[0m\u001b[1;33m)\u001b[0m\u001b[1;33m\u001b[0m\u001b[1;33m\u001b[0m\u001b[0m\n",
      "\u001b[1;31mNameError\u001b[0m: name 'name' is not defined"
     ]
    }
   ],
   "source": [
    "for i, classe in enumerate (images_list) :\n",
    "    for image in classe :\n",
    "        rotate_image(classe_path[i],image)\n",
    "        resize_image(classe_path[i],image)"
   ]
  },
  {
   "cell_type": "code",
   "execution_count": null,
   "id": "454e5bb4",
   "metadata": {},
   "outputs": [],
   "source": []
  }
 ],
 "metadata": {
  "kernelspec": {
   "display_name": "Python 3 (ipykernel)",
   "language": "python",
   "name": "python3"
  },
  "language_info": {
   "codemirror_mode": {
    "name": "ipython",
    "version": 3
   },
   "file_extension": ".py",
   "mimetype": "text/x-python",
   "name": "python",
   "nbconvert_exporter": "python",
   "pygments_lexer": "ipython3",
   "version": "3.9.15"
  }
 },
 "nbformat": 4,
 "nbformat_minor": 5
}
